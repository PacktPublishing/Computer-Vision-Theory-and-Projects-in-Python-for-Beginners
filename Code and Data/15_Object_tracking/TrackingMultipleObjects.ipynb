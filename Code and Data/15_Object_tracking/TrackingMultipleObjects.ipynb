{
 "cells": [
  {
   "cell_type": "code",
   "execution_count": 15,
   "metadata": {},
   "outputs": [],
   "source": [
    "import cv2\n",
    "import numpy as np"
   ]
  },
  {
   "cell_type": "code",
   "execution_count": 16,
   "metadata": {},
   "outputs": [],
   "source": [
    "TrDict = {'csrt': cv2.TrackerCSRT_create,\n",
    "         'kcf' : cv2.TrackerKCF_create,\n",
    "         'boosting' : cv2.TrackerBoosting_create,\n",
    "         'mil': cv2.TrackerMIL_create,\n",
    "         'tld': cv2.TrackerTLD_create,\n",
    "         'medianflow': cv2.TrackerMedianFlow_create,\n",
    "         'mosse':cv2.TrackerMOSSE_create}"
   ]
  },
  {
   "cell_type": "code",
   "execution_count": 17,
   "metadata": {},
   "outputs": [],
   "source": [
    "trackers = cv2.MultiTracker_create()"
   ]
  },
  {
   "cell_type": "code",
   "execution_count": 18,
   "metadata": {},
   "outputs": [],
   "source": [
    "v = cv2.VideoCapture(r'D:\\mot.mp4')"
   ]
  },
  {
   "cell_type": "code",
   "execution_count": 19,
   "metadata": {},
   "outputs": [],
   "source": [
    "ret, frame = v.read()"
   ]
  },
  {
   "cell_type": "code",
   "execution_count": 20,
   "metadata": {},
   "outputs": [],
   "source": [
    "k = 4\n",
    "for i in range(k):\n",
    "    cv2.imshow('Frame',frame)\n",
    "    bbi = cv2.selectROI('Frame',frame)\n",
    "    tracker_i = TrDict['csrt']()\n",
    "    trackers.add(tracker_i,frame,bbi)"
   ]
  },
  {
   "cell_type": "code",
   "execution_count": 21,
   "metadata": {},
   "outputs": [],
   "source": [
    "frameNumber = 2\n",
    "baseDir = r'D:\\TrackingResults'\n",
    "\n",
    "while True:\n",
    "    ret, frame = v.read()\n",
    "    if not ret:\n",
    "        break\n",
    "    (success,boxes) = trackers.update(frame)\n",
    "    np.savetxt(baseDir + '/frame_'+str(frameNumber)+'.txt',boxes,fmt='%f')\n",
    "    frameNumber+=1\n",
    "    for box in boxes:\n",
    "        (x,y,w,h) = [int(a) for a in box]\n",
    "        cv2.rectangle(frame,(x,y),(x+w,y+h),(0,0,255),2)\n",
    "        \n",
    "    cv2.imshow('Frame',frame)\n",
    "    key = cv2.waitKey(5) & 0xFF\n",
    "    if key == ord('q'):\n",
    "        break\n",
    "v.release()\n",
    "cv2.destroyAllWindows()"
   ]
  },
  {
   "cell_type": "code",
   "execution_count": 23,
   "metadata": {},
   "outputs": [],
   "source": [
    "boxes = np.loadtxt(r'D:\\TrackingResults\\frame_102.txt')"
   ]
  },
  {
   "cell_type": "code",
   "execution_count": 24,
   "metadata": {},
   "outputs": [
    {
     "data": {
      "text/plain": [
       "array([[802.634583, 372.809296,  58.366409, 117.794022],\n",
       "       [887.393677, 239.489075,  40.519829,  84.808945],\n",
       "       [431.494141, 382.603577,  66.585564, 110.282341],\n",
       "       [951.417419, 254.674072,  56.862694,  88.235214]])"
      ]
     },
     "execution_count": 24,
     "metadata": {},
     "output_type": "execute_result"
    }
   ],
   "source": [
    "boxes"
   ]
  },
  {
   "cell_type": "code",
   "execution_count": null,
   "metadata": {},
   "outputs": [],
   "source": []
  }
 ],
 "metadata": {
  "kernelspec": {
   "display_name": "Python 3",
   "language": "python",
   "name": "python3"
  },
  "language_info": {
   "codemirror_mode": {
    "name": "ipython",
    "version": 3
   },
   "file_extension": ".py",
   "mimetype": "text/x-python",
   "name": "python",
   "nbconvert_exporter": "python",
   "pygments_lexer": "ipython3",
   "version": "3.7.4"
  }
 },
 "nbformat": 4,
 "nbformat_minor": 2
}
